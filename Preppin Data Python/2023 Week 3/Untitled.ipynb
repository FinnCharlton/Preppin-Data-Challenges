{
 "cells": [
  {
   "cell_type": "code",
   "execution_count": 28,
   "id": "5109d8c1-2761-40d3-9abe-f5599c14f837",
   "metadata": {},
   "outputs": [
    {
     "name": "stderr",
     "output_type": "stream",
     "text": [
      "C:\\Users\\FinnCharlton\\AppData\\Local\\Temp\\ipykernel_9508\\3340275873.py:7: SettingWithCopyWarning: \n",
      "A value is trying to be set on a copy of a slice from a DataFrame.\n",
      "Try using .loc[row_indexer,col_indexer] = value instead\n",
      "\n",
      "See the caveats in the documentation: https://pandas.pydata.org/pandas-docs/stable/user_guide/indexing.html#returning-a-view-versus-a-copy\n",
      "  filt.loc[filt[\"Online or In-Person\"] == 1, 'Online?'] = 'Online'\n"
     ]
    }
   ],
   "source": [
    "import pandas as pd\n",
    "\n",
    "df = pd.read_csv(\"PD 2023 Wk 1 Input.csv\")\n",
    "targets = pd.read_csv(\"Targets.csv\")\n",
    "\n",
    "filt = df[df[\"Transaction Code\"].str.match('DSB')]\n",
    "filt.loc[filt[\"Online or In-Person\"] == 1, 'Online?'] = 'Online'"
   ]
  }
 ],
 "metadata": {
  "kernelspec": {
   "display_name": "Python 3 (ipykernel)",
   "language": "python",
   "name": "python3"
  },
  "language_info": {
   "codemirror_mode": {
    "name": "ipython",
    "version": 3
   },
   "file_extension": ".py",
   "mimetype": "text/x-python",
   "name": "python",
   "nbconvert_exporter": "python",
   "pygments_lexer": "ipython3",
   "version": "3.9.13"
  }
 },
 "nbformat": 4,
 "nbformat_minor": 5
}
