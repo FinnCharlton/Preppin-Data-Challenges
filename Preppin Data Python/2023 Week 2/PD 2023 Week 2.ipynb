{
 "cells": [
  {
   "cell_type": "code",
   "execution_count": 1,
   "id": "42966de4-f8cd-4b08-b9f1-7743cf7fe436",
   "metadata": {},
   "outputs": [],
   "source": [
    "import pandas as pd\n",
    "codes = pd.read_csv(\"Swift Codes.csv\")\n",
    "trans = pd.read_csv(\"Transactions.csv\")\n",
    "\n",
    "trans[\"Sort Code\"] = trans[\"Sort Code\"].str.replace('-','') \n",
    "\n",
    "joined = pd.merge(trans,codes,how='inner',on=[\"Bank\"])\n",
    "\n",
    "joined[\"Country Code\"] = 'GB'\n",
    "\n",
    "joined[\"Account Number\"] = joined[\"Account Number\"].astype(str)\n",
    "joined[\"IBAN\"] = joined[\"Country Code\"] + joined[\"Check Digits\"] + joined[\"SWIFT code\"] + joined[\"Sort Code\"] + joined[\"Account Number\"]\n",
    "\n",
    "output= joined[[\"Transaction ID\",\"IBAN\"]]\n",
    "output.to_csv(\"PD 2023 Week 2 Output.csv\")"
   ]
  }
 ],
 "metadata": {
  "kernelspec": {
   "display_name": "Python 3 (ipykernel)",
   "language": "python",
   "name": "python3"
  },
  "language_info": {
   "codemirror_mode": {
    "name": "ipython",
    "version": 3
   },
   "file_extension": ".py",
   "mimetype": "text/x-python",
   "name": "python",
   "nbconvert_exporter": "python",
   "pygments_lexer": "ipython3",
   "version": "3.10.11"
  }
 },
 "nbformat": 4,
 "nbformat_minor": 5
}
