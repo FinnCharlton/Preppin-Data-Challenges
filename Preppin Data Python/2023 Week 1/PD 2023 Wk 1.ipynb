{
 "cells": [
  {
   "cell_type": "code",
   "execution_count": 1,
   "id": "c923d8ee-c168-45c2-931a-0ead5420d89f",
   "metadata": {},
   "outputs": [],
   "source": [
    "import pandas as pd\n",
    "\n",
    "import numpy as np\n",
    "\n",
    "df = pd.read_csv(\"PD 2023 Wk 1 Input.csv\")\n",
    "\n",
    "SplitTC = df[\"Transaction Code\"].str.split(pat=\"-\",expand=True)\n",
    "df[\"Bank\"] = SplitTC[0]\n",
    "\n",
    "df[\"Online?\"]=df[\"Online or In-Person\"].apply(lambda x: \"Online\" if x == 1 else \"In-Person\")\n",
    "\n",
    "df[\"Transaction Date\"] = pd.to_datetime(df[\"Transaction Date\"],format=\"%d/%m/%Y %H:%M:%S\")\n",
    "df[\"Day Of Week\"] = df[\"Transaction Date\"].dt.day_name()\n",
    "\n",
    "TransByB = df.groupby(\"Bank\").agg({\"Value\":\"sum\"})\n",
    "TransByBDO = df.groupby([\"Bank\",\"Day Of Week\",\"Online?\"]).agg({\"Value\":\"sum\"})\n",
    "TransByBC = df.groupby([\"Bank\",\"Customer Code\"]).agg({\"Value\":\"sum\"})\n",
    "\n",
    "TransByB.to_csv(\"PD 2023 Wk1 Output 1.csv\")\n",
    "TransByBDO.to_csv(\"PD 2023 Wk1 Output 2.csv\")\n",
    "TransByBC.to_csv(\"PD 2023 Wk1 Output 3.csv\")"
   ]
  }
 ],
 "metadata": {
  "kernelspec": {
   "display_name": "Python 3 (ipykernel)",
   "language": "python",
   "name": "python3"
  },
  "language_info": {
   "codemirror_mode": {
    "name": "ipython",
    "version": 3
   },
   "file_extension": ".py",
   "mimetype": "text/x-python",
   "name": "python",
   "nbconvert_exporter": "python",
   "pygments_lexer": "ipython3",
   "version": "3.10.11"
  }
 },
 "nbformat": 4,
 "nbformat_minor": 5
}
